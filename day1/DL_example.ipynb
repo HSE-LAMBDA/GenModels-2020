{
 "cells": [
  {
   "cell_type": "markdown",
   "metadata": {},
   "source": [
    "# Семинар по обучению полносвязных нейросетей в Pytorch\n",
    "\n",
    "На этом семинаре мы будем обучать полносвзяную нейроную сеть на данных MNIST - изображениях рукописных цифр.\n",
    "\n",
    "Мы будем использовать библиотеку Pytorch - это одна из двух наиболее популярных и часто используемых библиотек для обучения нейронных сетей."
   ]
  },
  {
   "cell_type": "markdown",
   "metadata": {},
   "source": [
    "### Загрузка данных"
   ]
  },
  {
   "cell_type": "code",
   "execution_count": 4,
   "metadata": {
    "collapsed": true
   },
   "outputs": [],
   "source": [
    "import torch \n",
    "import torch.nn as nn\n",
    "import torch.nn.functional as F\n",
    "import numpy as np\n",
    "import torch.utils.data\n",
    "import torchvision"
   ]
  },
  {
   "cell_type": "code",
   "execution_count": 2,
   "metadata": {
    "collapsed": true
   },
   "outputs": [],
   "source": [
    "from matplotlib import pyplot as plt\n",
    "%matplotlib inline"
   ]
  },
  {
   "cell_type": "markdown",
   "metadata": {},
   "source": [
    "Мы будем работать с данными MNIST: это набор из 60000 изображений цифр размером 28x28. \n",
    "\n",
    "В Pytorch есть своя обертка, позволяющая скачивать MNIST автоматически:"
   ]
  },
  {
   "cell_type": "code",
   "execution_count": 5,
   "metadata": {
    "collapsed": true
   },
   "outputs": [],
   "source": [
    "train_dataset = torchvision.datasets.MNIST('.', train=True, download=True,\n",
    "                             transform=torchvision.transforms.Compose([\n",
    "                               torchvision.transforms.ToTensor(),\n",
    "                               torchvision.transforms.Normalize(\n",
    "                                 (0.1307,), (0.3081,))\n",
    "                             ]))\n",
    "\n",
    "train_loader = torch.utils.data.DataLoader(\n",
    "  train_dataset,\n",
    "  batch_size=64, shuffle=True)\n",
    "\n",
    "test_dataset = torchvision.datasets.MNIST('.', train=False, download=True,\n",
    "                             transform=torchvision.transforms.Compose([\n",
    "                               torchvision.transforms.ToTensor(),\n",
    "                               torchvision.transforms.Normalize(\n",
    "                                 (0.1307,), (0.3081,))\n",
    "                             ]))\n",
    "\n",
    "test_loader = torch.utils.data.DataLoader(\n",
    "  test_dataset,\n",
    "  batch_size=64, shuffle=True)"
   ]
  },
  {
   "cell_type": "markdown",
   "metadata": {},
   "source": [
    "Данные уже разделены на обучающую и тестовую части!\n",
    "\n",
    "Посмотрим на форму всех загруженных переменных:"
   ]
  },
  {
   "cell_type": "code",
   "execution_count": 6,
   "metadata": {},
   "outputs": [
    {
     "data": {
      "text/plain": [
       "(torch.Size([60000, 28, 28]), torch.Size([60000]))"
      ]
     },
     "execution_count": 6,
     "metadata": {},
     "output_type": "execute_result"
    }
   ],
   "source": [
    "train_dataset.train_data.shape, train_dataset.train_labels.shape"
   ]
  },
  {
   "cell_type": "code",
   "execution_count": 7,
   "metadata": {},
   "outputs": [
    {
     "data": {
      "text/plain": [
       "(torch.Size([10000, 28, 28]), torch.Size([10000]))"
      ]
     },
     "execution_count": 7,
     "metadata": {},
     "output_type": "execute_result"
    }
   ],
   "source": [
    "test_dataset.test_data.shape, test_dataset.test_labels.shape"
   ]
  },
  {
   "cell_type": "markdown",
   "metadata": {},
   "source": [
    "Визуализируем несколько объектов обучающей выборки:"
   ]
  },
  {
   "cell_type": "code",
   "execution_count": 6,
   "metadata": {},
   "outputs": [
    {
     "data": {
      "image/png": "[encoded data removed]",
      "text/plain": [
       "<Figure size 1296x504 with 10 Axes>"
      ]
     },
     "metadata": {
      "needs_background": "light"
     },
     "output_type": "display_data"
    }
   ],
   "source": [
    "plt.figure(figsize=(9, 3.2))\n",
    "for im in range(10):\n",
    "    plt.subplot(2, 5, im+1)\n",
    "    plt.imshow(train_dataset.train_data[im], cmap=\"Greys\")"
   ]
  },
  {
   "cell_type": "markdown",
   "metadata": {},
   "source": [
    "А вот так выглядят данные в виде таблицы объекты-признаки:"
   ]
  },
  {
   "cell_type": "code",
   "execution_count": 7,
   "metadata": {},
   "outputs": [
    {
     "data": {
      "text/plain": [
       "array([[[[0., 0., 0., ..., 0., 0., 0.],\n",
       "         [0., 0., 0., ..., 0., 0., 0.],\n",
       "         [0., 0., 0., ..., 0., 0., 0.],\n",
       "         ...,\n",
       "         [0., 0., 0., ..., 0., 0., 0.],\n",
       "         [0., 0., 0., ..., 0., 0., 0.],\n",
       "         [0., 0., 0., ..., 0., 0., 0.]]],\n",
       "\n",
       "\n",
       "       [[[0., 0., 0., ..., 0., 0., 0.],\n",
       "         [0., 0., 0., ..., 0., 0., 0.],\n",
       "         [0., 0., 0., ..., 0., 0., 0.],\n",
       "         ...,\n",
       "         [0., 0., 0., ..., 0., 0., 0.],\n",
       "         [0., 0., 0., ..., 0., 0., 0.],\n",
       "         [0., 0., 0., ..., 0., 0., 0.]]]], dtype=float32)"
      ]
     },
     "execution_count": 7,
     "metadata": {},
     "output_type": "execute_result"
    }
   ],
   "source": [
    "train_dataset.train_data[:2]"
   ]
  },
  {
   "cell_type": "markdown",
   "metadata": {},
   "source": [
    "### Сборка нейронной сети\n",
    "\n",
    "Нейронные сети обычно \"собирают\" из готовых слоев. В методе \\_\\_init\\_\\_ нужно указать все слои, которые будут использованы, а в методе forward нужно указать, как выполняется _проход вперед_. Иными словами, какие преобразования нужно выполнить, чтобы получить предсказания.\n",
    "\n",
    "Составим нейронную сеть из трех полносвязных слоев с нелинейностью ReLU:"
   ]
  },
  {
   "cell_type": "code",
   "execution_count": 9,
   "metadata": {
    "collapsed": true
   },
   "outputs": [],
   "source": [
    "class OurFirstNet(nn.Module):\n",
    "    def __init__(self, k=1):\n",
    "        super(OurFirstNet, self).__init__()\n",
    "        self.fc1 = nn.Linear(28*28, 120)\n",
    "        self.fc2 = nn.Linear(120, 84)\n",
    "        self.fc3 = nn.Linear(84, 10)\n",
    "        self.relu = nn.ReLU()\n",
    "\n",
    "    def forward(self, x):\n",
    "        x = x.reshape(-1, 28*28).float()\n",
    "        l1 = self.fc1(x)\n",
    "        a1 = self.relu(l1)\n",
    "        l2 = self.fc2(a1)\n",
    "        a2 = self.relu(l2)\n",
    "        out = self.fc3(a2)\n",
    "        return out"
   ]
  },
  {
   "cell_type": "markdown",
   "metadata": {},
   "source": [
    "Мы задали общую схему нейросети, теперь создадим конкретную нейросеть (в этот момент инициализируются все параметры нейросети):"
   ]
  },
  {
   "cell_type": "code",
   "execution_count": 10,
   "metadata": {
    "collapsed": true
   },
   "outputs": [],
   "source": [
    "our_model = OurFirstNet()"
   ]
  },
  {
   "cell_type": "markdown",
   "metadata": {},
   "source": [
    "Посчитаем параметры нейросети:"
   ]
  },
  {
   "cell_type": "code",
   "execution_count": 11,
   "metadata": {},
   "outputs": [
    {
     "data": {
      "text/plain": [
       "105214"
      ]
     },
     "execution_count": 11,
     "metadata": {},
     "output_type": "execute_result"
    }
   ],
   "source": [
    "def count_parameters(model):\n",
    "    return sum(param.data.numpy().size for param \\\n",
    "               in model.parameters() if param.requires_grad)\n",
    "\n",
    "count_parameters(our_model)"
   ]
  },
  {
   "cell_type": "markdown",
   "metadata": {},
   "source": [
    "Напечатаем размеры одного мини-батча данных и предсказания на этом мини-батче (в момент предсказания вызывается метод forward):"
   ]
  },
  {
   "cell_type": "code",
   "execution_count": 12,
   "metadata": {},
   "outputs": [
    {
     "name": "stdout",
     "output_type": "stream",
     "text": [
      "torch.Size([5, 784])\n",
      "torch.Size([5, 10])\n"
     ]
    }
   ],
   "source": [
    "batch = train_loader.dataset.train_data[:5]\n",
    "print(batch.shape)\n",
    "prediction = our_model(batch)\n",
    "print(prediction.shape)"
   ]
  },
  {
   "cell_type": "markdown",
   "metadata": {},
   "source": [
    "### Обучение нейросети"
   ]
  },
  {
   "cell_type": "markdown",
   "metadata": {},
   "source": [
    "Определим функционал качества (он включает слой Softmax):"
   ]
  },
  {
   "cell_type": "code",
   "execution_count": 13,
   "metadata": {
    "collapsed": true
   },
   "outputs": [],
   "source": [
    "criterion = nn.CrossEntropyLoss()"
   ]
  },
  {
   "cell_type": "markdown",
   "metadata": {},
   "source": [
    "Зададим оптимизатор, реализующий стохастический градиентный спуск:"
   ]
  },
  {
   "cell_type": "code",
   "execution_count": 14,
   "metadata": {
    "collapsed": true
   },
   "outputs": [],
   "source": [
    "opt = torch.optim.SGD(our_model.parameters(), lr=0.1)"
   ]
  },
  {
   "cell_type": "markdown",
   "metadata": {},
   "source": [
    "Во время обучения модели удобно контролировать качество и на обучении, и на тесте - возникает дублирующий код. Поэтому мы вынесем в отдельную функцию оценку модели, и в отдельную функцию - одну эпоху обучения (один проход по всей обучающей выборке)."
   ]
  },
  {
   "cell_type": "code",
   "execution_count": 15,
   "metadata": {
    "collapsed": true
   },
   "outputs": [],
   "source": [
    "def train_epoch(model, optimizer, train_loader, criterion):\n",
    "    for x_batch, y_batch in train_loader:\n",
    "        optimizer.zero_grad()\n",
    "        output = model(x_batch) # проход вперед (выполнение предсказаий)\n",
    "        \n",
    "        loss = criterion(output, y_batch) # вычисление функционала качества\n",
    "        loss.backward() # проход назад (вычисление градиентнов)\n",
    "        optimizer.step() # шаг стохастического градиентного спуска (обновление параметров)\n",
    "\n",
    "def evaluate_loss_acc(model, loader, criterion):\n",
    "    with torch.no_grad(): # сообщаем библиотеке, что вычисление градиентов не потребуется\n",
    "        cumloss, cumacc = 0, 0\n",
    "        num_objects = 0\n",
    "        for x_batch, y_batch in loader:\n",
    "            output = model(x_batch) # проход вперед (выполнение предсказаий)\n",
    "            loss = criterion(output, y_batch) # вычисление функционала качества\n",
    "            pred = torch.max(output, 1)[1] # выбор предсказанных классов\n",
    "            acc = torch.sum(pred == y_batch) # вычисление точности \n",
    "\n",
    "            cumloss += loss.item()\n",
    "            cumacc += acc.item()\n",
    "            num_objects += len(x_batch)\n",
    "    return cumloss / num_objects, cumacc / num_objects\n",
    "    \n",
    "    \n",
    "def train(model, opt, train_loader, test_loader, criterion, \\\n",
    "          n_epochs=10, print_info=True):\n",
    "    train_log, train_acc_log = [], []\n",
    "    val_log, val_acc_log = [], []\n",
    "\n",
    "    for epoch in range(n_epochs):\n",
    "        train_epoch(model, opt, train_loader, criterion)\n",
    "        train_loss, train_acc = evaluate_loss_acc(model, train_loader, \n",
    "                                                  criterion)\n",
    "        val_loss, val_acc = evaluate_loss_acc(model, test_loader, \n",
    "                                              criterion)\n",
    "\n",
    "        train_log.append(train_loss)\n",
    "        train_acc_log.append(train_acc)\n",
    "\n",
    "        val_log.append(val_loss)\n",
    "        val_acc_log.append(val_acc)\n",
    "        \n",
    "        if print_info:\n",
    "            print (('Эпоха [%d/%d], функц. кач. (train/test): %.4f/%.4f,'+\\\n",
    "               ' точность (train/test): %.4f/%.4f' )\n",
    "                   %(epoch+1, n_epochs, \\\n",
    "                     train_loss, val_loss, train_acc, val_acc))\n",
    "            \n",
    "    return train_log, train_acc_log, val_log, val_acc_log"
   ]
  },
  {
   "cell_type": "markdown",
   "metadata": {},
   "source": [
    "Обучим нашу нейронную сеть:"
   ]
  },
  {
   "cell_type": "code",
   "execution_count": 16,
   "metadata": {},
   "outputs": [
    {
     "name": "stdout",
     "output_type": "stream",
     "text": [
      "Эпоха [1/20], функц. кач. (train/test): 0.0039/0.0038, точность (train/test): 0.9239/0.9286\n",
      "Эпоха [2/20], функц. кач. (train/test): 0.0025/0.0025, точность (train/test): 0.9509/0.9518\n",
      "Эпоха [3/20], функц. кач. (train/test): 0.0019/0.0020, точность (train/test): 0.9636/0.9600\n",
      "Эпоха [4/20], функц. кач. (train/test): 0.0015/0.0018, точность (train/test): 0.9702/0.9655\n",
      "Эпоха [5/20], функц. кач. (train/test): 0.0013/0.0017, точность (train/test): 0.9751/0.9684\n",
      "Эпоха [6/20], функц. кач. (train/test): 0.0011/0.0015, точность (train/test): 0.9787/0.9706\n",
      "Эпоха [7/20], функц. кач. (train/test): 0.0009/0.0014, точность (train/test): 0.9815/0.9722\n",
      "Эпоха [8/20], функц. кач. (train/test): 0.0008/0.0014, точность (train/test): 0.9837/0.9740\n",
      "Эпоха [9/20], функц. кач. (train/test): 0.0006/0.0013, точность (train/test): 0.9867/0.9755\n",
      "Эпоха [10/20], функц. кач. (train/test): 0.0006/0.0013, точность (train/test): 0.9885/0.9751\n",
      "Эпоха [11/20], функц. кач. (train/test): 0.0005/0.0013, точность (train/test): 0.9898/0.9756\n",
      "Эпоха [12/20], функц. кач. (train/test): 0.0004/0.0013, точность (train/test): 0.9912/0.9758\n",
      "Эпоха [13/20], функц. кач. (train/test): 0.0004/0.0013, точность (train/test): 0.9923/0.9757\n",
      "Эпоха [14/20], функц. кач. (train/test): 0.0003/0.0014, точность (train/test): 0.9932/0.9762\n",
      "Эпоха [15/20], функц. кач. (train/test): 0.0003/0.0014, точность (train/test): 0.9943/0.9765\n",
      "Эпоха [16/20], функц. кач. (train/test): 0.0003/0.0014, точность (train/test): 0.9949/0.9762\n",
      "Эпоха [17/20], функц. кач. (train/test): 0.0002/0.0014, точность (train/test): 0.9954/0.9757\n",
      "Эпоха [18/20], функц. кач. (train/test): 0.0002/0.0015, точность (train/test): 0.9961/0.9759\n",
      "Эпоха [19/20], функц. кач. (train/test): 0.0002/0.0015, точность (train/test): 0.9964/0.9751\n",
      "Эпоха [20/20], функц. кач. (train/test): 0.0002/0.0015, точность (train/test): 0.9970/0.9759\n"
     ]
    }
   ],
   "source": [
    "### your code here\n",
    "results = train(our_model, opt, train_loader, test_loader, criterion, \\\n",
    "      n_epochs=20)"
   ]
  },
  {
   "cell_type": "markdown",
   "metadata": {},
   "source": [
    "У нас получилось вполне хорошее тестовое качество: больше 95%!\n",
    "    \n",
    "Выполним предсказания с помощью обученной нейросети для первых пяти объектов тестовой выборки:"
   ]
  },
  {
   "cell_type": "code",
   "execution_count": 17,
   "metadata": {},
   "outputs": [
    {
     "data": {
      "text/plain": [
       "tensor([[2.0772e-11, 2.9484e-10, 2.3209e-07, 5.2651e-06, 1.4689e-09, 1.2018e-12,\n",
       "         2.5591e-19, 9.9999e-01, 6.8923e-09, 1.0534e-06],\n",
       "        [1.4289e-11, 5.2035e-06, 9.9999e-01, 9.0995e-08, 5.0698e-18, 3.0698e-13,\n",
       "         7.4532e-11, 4.8935e-11, 3.7007e-07, 3.3369e-18],\n",
       "        [7.4719e-11, 9.9996e-01, 1.1684e-05, 2.2140e-08, 4.5821e-06, 1.0028e-07,\n",
       "         1.0083e-06, 1.0225e-05, 1.0032e-05, 2.1634e-08],\n",
       "        [1.0000e+00, 5.1438e-10, 7.6705e-07, 1.0494e-11, 1.3077e-10, 4.0178e-10,\n",
       "         1.6433e-08, 1.0657e-06, 2.3377e-13, 7.2196e-07],\n",
       "        [7.6580e-09, 2.9098e-11, 1.7485e-08, 2.1018e-12, 9.9941e-01, 4.2152e-11,\n",
       "         6.6890e-09, 1.1395e-06, 5.4976e-09, 5.9286e-04]],\n",
       "       grad_fn=<SoftmaxBackward>)"
      ]
     },
     "execution_count": 17,
     "metadata": {},
     "output_type": "execute_result"
    }
   ],
   "source": [
    "batch = test_loader.dataset.tensors[0][:5]\n",
    "prediction = our_model(batch)\n",
    "prediction_d = F.softmax(prediction, dim=1)\n",
    "prediction_d"
   ]
  },
  {
   "cell_type": "markdown",
   "metadata": {},
   "source": [
    "Визуализируем предсказания (в первой строке объекты, во второй строке - предказанные вероятности классов):"
   ]
  },
  {
   "cell_type": "code",
   "execution_count": 18,
   "metadata": {},
   "outputs": [
    {
     "data": {
      "image/png": "[encoded data removed]",
      "text/plain": [
       "<Figure size 1296x504 with 10 Axes>"
      ]
     },
     "metadata": {
      "needs_background": "light"
     },
     "output_type": "display_data"
    }
   ],
   "source": [
    "plt.figure(figsize=(18, 7))\n",
    "for im in range(5):\n",
    "    plt.subplot(2, 5, im+1)\n",
    "    plt.imshow(X_test[im, 0], cmap=\"Greys\")\n",
    "    plt.subplot(2, 5, im+6)\n",
    "    plt.bar(np.arange(10), prediction_d[im].detach().numpy())\n",
    "    plt.xlabel(\"классы\")"
   ]
  },
  {
   "cell_type": "markdown",
   "metadata": {},
   "source": [
    "\n",
    "### Пробуем разную длину шага и размер мини-батча"
   ]
  },
  {
   "cell_type": "markdown",
   "metadata": {},
   "source": [
    "У нейросетей много гиперпараметров, один из самых важных - длина шага. Этот гиперпараметр нужно подбирать индивидуально для каждой задачи. Хорошая новость - довольно часто длину шага удается подобрать, используя только обучающую выборку!\n",
    "\n",
    "Попробуем использовать разную длину шага:"
   ]
  },
  {
   "cell_type": "code",
   "execution_count": 19,
   "metadata": {
    "collapsed": true
   },
   "outputs": [],
   "source": [
    "train_acc_history = []\n",
    "val_acc_history  = []\n",
    "for lr in [1e-4, 1e-3, 1e-2, 1e-1, 1]:\n",
    "        # создаем новую модель\n",
    "        my_nn = OurFirstNet()\n",
    "        # установка длины шага\n",
    "        optimizer = torch.optim.SGD(my_nn.parameters(), lr=lr)\n",
    "        # обучение модели\n",
    "        _, train_acc_log, _, val_acc_log = train(my_nn, \n",
    "                                                 optimizer, \n",
    "                                                 train_loader, \n",
    "                                                 test_loader,\n",
    "                                                 criterion,\n",
    "                                                 n_epochs=20, \n",
    "                                                 print_info=False)\n",
    "        \n",
    "        train_acc_history.append(train_acc_log)\n",
    "        val_acc_history.append(val_acc_log)"
   ]
  },
  {
   "cell_type": "code",
   "execution_count": 20,
   "metadata": {},
   "outputs": [
    {
     "data": {
      "text/plain": [
       "<matplotlib.legend.Legend at 0x7fbede734f90>"
      ]
     },
     "execution_count": 20,
     "metadata": {},
     "output_type": "execute_result"
    },
    {
     "data": {
      "image/png": "[encoded data removed]",
      "text/plain": [
       "<Figure size 1080x360 with 2 Axes>"
      ]
     },
     "metadata": {
      "needs_background": "light"
     },
     "output_type": "display_data"
    }
   ],
   "source": [
    "f, (ax1, ax2) = plt.subplots(1, 2, figsize=(15, 5))\n",
    "\n",
    "ax1.set_title(\"Train accuracy\", fontsize=15)\n",
    "ax2.set_title(\"Test accuracy\", fontsize=15)\n",
    "ax1.set_xlabel(\"шаги обучения\", fontsize=15)\n",
    "ax2.set_xlabel(\"шаги обучения\", fontsize=15)\n",
    "t = 0\n",
    "for lr in [1e-4, 1e-3, 1e-2, 1e-1, 1]:\n",
    "        ax1.plot(train_acc_history[t], \n",
    "                 label=\"lr =\" +str(lr))\n",
    "        ax2.plot(val_acc_history[t], \n",
    "                 label=\"lr =\" +str(lr))\n",
    "        t+=1\n",
    "ax2.legend(fontsize=15)       "
   ]
  },
  {
   "cell_type": "markdown",
   "metadata": {},
   "source": [
    "С маленькой длиной шага алгоритм обучается слишком медленно, не успевая достичь высокого качества. Со слишком большой длиной шага алгоритм, наоборот, не сходится, то есть вообще не сможет достичь высокого качества. Нужно выбирать оптимальную длину шага."
   ]
  },
  {
   "cell_type": "markdown",
   "metadata": {},
   "source": [
    "Оценить семинар:"
   ]
  },
  {
   "cell_type": "markdown",
   "metadata": {},
   "source": [
    "![](https://github.com/nadiinchi/ml_workshop_nov2020/raw/main/qr_s2.jpeg)"
   ]
  },
  {
   "cell_type": "code",
   "execution_count": null,
   "metadata": {
    "collapsed": true
   },
   "outputs": [],
   "source": []
  }
 ],
 "metadata": {
  "kernelspec": {
   "display_name": "Python 3",
   "language": "python",
   "name": "python3"
  },
  "language_info": {
   "codemirror_mode": {
    "name": "ipython",
    "version": 3
   },
   "file_extension": ".py",
   "mimetype": "text/x-python",
   "name": "python",
   "nbconvert_exporter": "python",
   "pygments_lexer": "ipython3",
   "version": "3.6.3"
  }
 },
 "nbformat": 4,
 "nbformat_minor": 2
}
